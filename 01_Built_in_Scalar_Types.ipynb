{
  "nbformat": 4,
  "nbformat_minor": 0,
  "metadata": {
    "kernelspec": {
      "display_name": "Python 3",
      "language": "python",
      "name": "python3"
    },
    "language_info": {
      "codemirror_mode": {
        "name": "ipython",
        "version": 3
      },
      "file_extension": ".py",
      "mimetype": "text/x-python",
      "name": "python",
      "nbconvert_exporter": "python",
      "pygments_lexer": "ipython3",
      "version": "3.7.2"
    },
    "colab": {
      "name": "01-Built-in-Scalar-Types.ipynb",
      "provenance": [],
      "include_colab_link": true
    }
  },
  "cells": [
    {
      "cell_type": "markdown",
      "metadata": {
        "id": "view-in-github",
        "colab_type": "text"
      },
      "source": [
        "<a href=\"https://colab.research.google.com/github/johnwu1116/temp-780/blob/main/01_Built_in_Scalar_Types.ipynb\" target=\"_parent\"><img src=\"https://colab.research.google.com/assets/colab-badge.svg\" alt=\"Open In Colab\"/></a>"
      ]
    },
    {
      "cell_type": "markdown",
      "metadata": {
        "id": "-sv9ZZZFxkjm"
      },
      "source": [
        "# Built-In Types: Simple Values"
      ]
    },
    {
      "cell_type": "markdown",
      "metadata": {
        "id": "ANman4kWxkjp"
      },
      "source": [
        "When discussing Python variables and objects, we mentioned the fact that all Python objects have type information attached. Here we'll briefly walk through the built-in simple types offered by Python.\n",
        "We say \"simple types\" to contrast with several compound types, which will be discussed in the following section.\n",
        "\n",
        "Python's simple types are summarized in the following table:\n",
        "\n",
        "<center>**Python Scalar Types**</center>\n",
        "\n",
        "| Type        | Example        | Description                                                  |\n",
        "|-------------|----------------|--------------------------------------------------------------|\n",
        "| ``int``     | ``x = 1``      | integers (i.e., whole numbers)                               |\n",
        "| ``float``   | ``x = 1.0``    | floating-point numbers (i.e., real numbers)                  |\n",
        "| ``complex`` | ``x = 1 + 2j`` | Complex numbers (i.e., numbers with real and imaginary part) |\n",
        "| ``bool``    | ``x = True``   | Boolean: True/False values                                   |\n",
        "| ``str``     | ``x = 'abc'``  | String: characters or text                                   |\n",
        "| ``NoneType``| ``x = None``   | Special object indicating nulls                              |\n",
        "\n",
        "We'll take a quick look at each of these in turn."
      ]
    },
    {
      "cell_type": "markdown",
      "metadata": {
        "id": "3tmjzwFHxkjq"
      },
      "source": [
        "## Integers\n",
        "The most basic numerical type is the integer.\n",
        "Any number without a decimal point is an integer:"
      ]
    },
    {
      "cell_type": "code",
      "metadata": {
        "id": "ftdDsrv-xkjq",
        "outputId": "57b6cede-1b14-415a-c35c-2981dd56260b"
      },
      "source": [
        "x = 1\n",
        "type(x)"
      ],
      "execution_count": null,
      "outputs": [
        {
          "output_type": "execute_result",
          "data": {
            "text/plain": [
              "int"
            ]
          },
          "metadata": {
            "tags": []
          },
          "execution_count": 1
        }
      ]
    },
    {
      "cell_type": "markdown",
      "metadata": {
        "id": "MlFLTf8Exkjv"
      },
      "source": [
        "Python integers are actually quite a bit more sophisticated than integers in languages like ``C``.\n",
        "C integers are fixed-precision, and usually overflow at some value (often near $2^{31}$ or $2^{63}$, depending on your system).\n",
        "Python integers are variable-precision, so you can do computations that would overflow in other languages:"
      ]
    },
    {
      "cell_type": "code",
      "metadata": {
        "id": "0XiwELZ5xkjv",
        "outputId": "fec56d50-abaf-49a5-bd20-bf9f0975381d"
      },
      "source": [
        "2 ** 200"
      ],
      "execution_count": null,
      "outputs": [
        {
          "output_type": "execute_result",
          "data": {
            "text/plain": [
              "1606938044258990275541962092341162602522202993782792835301376"
            ]
          },
          "metadata": {
            "tags": []
          },
          "execution_count": 2
        }
      ]
    },
    {
      "cell_type": "markdown",
      "metadata": {
        "id": "oKWnSBnhxkjy"
      },
      "source": [
        "Another convenient feature of Python integers is that by default, division up-casts to floating-point type:"
      ]
    },
    {
      "cell_type": "code",
      "metadata": {
        "id": "k6sLgu5hxkjy",
        "outputId": "3790300b-1d90-44f8-f05e-6e85a8465be4"
      },
      "source": [
        "5 / 2"
      ],
      "execution_count": null,
      "outputs": [
        {
          "output_type": "execute_result",
          "data": {
            "text/plain": [
              "2.5"
            ]
          },
          "metadata": {
            "tags": []
          },
          "execution_count": 3
        }
      ]
    },
    {
      "cell_type": "markdown",
      "metadata": {
        "id": "mksFdqTNxkj0"
      },
      "source": [
        "Note that this upcasting is a feature of Python 3; in Python 2, like in many statically-typed languages such as C, integer division truncates any decimal and always returns an integer:\n",
        "``` python\n",
        "# Python 2 behavior\n",
        ">>> 5 / 2\n",
        "2\n",
        "```\n",
        "To recover this behavior in Python 3, you can use the floor-division operator:"
      ]
    },
    {
      "cell_type": "code",
      "metadata": {
        "id": "k112BtgIxkj1",
        "outputId": "b7c98d45-371f-45d0-b38e-9e4536c21bdc"
      },
      "source": [
        "5 // 2"
      ],
      "execution_count": null,
      "outputs": [
        {
          "output_type": "execute_result",
          "data": {
            "text/plain": [
              "2"
            ]
          },
          "metadata": {
            "tags": []
          },
          "execution_count": 4
        }
      ]
    },
    {
      "cell_type": "markdown",
      "metadata": {
        "id": "1lTA2QxDxkj3"
      },
      "source": [
        "Finally, note that although Python *2.x* had both an ``int`` and ``long`` type, Python 3 combines the behavior of these two into a single ``int`` type."
      ]
    },
    {
      "cell_type": "markdown",
      "metadata": {
        "id": "4TguOI0Cxkj4"
      },
      "source": [
        "## Floating-Point Numbers\n",
        "The floating-point type can store fractional numbers.\n",
        "They can be defined either in standard decimal notation, or in exponential notation:"
      ]
    },
    {
      "cell_type": "code",
      "metadata": {
        "id": "sIwYbEydxkj4",
        "outputId": "3828de38-d545-4ed2-8be9-31b0fbc80988"
      },
      "source": [
        "x = 0.000005\n",
        "y = 5e-6\n",
        "print(x == y)"
      ],
      "execution_count": null,
      "outputs": [
        {
          "output_type": "stream",
          "text": [
            "True\n"
          ],
          "name": "stdout"
        }
      ]
    },
    {
      "cell_type": "code",
      "metadata": {
        "id": "pP_fkAxexkj6",
        "outputId": "99125b94-880e-4d1e-a214-8fc9f2c6e9eb"
      },
      "source": [
        "x = 1400000.00\n",
        "y = 1.4e6\n",
        "print(x == y)"
      ],
      "execution_count": null,
      "outputs": [
        {
          "output_type": "stream",
          "text": [
            "True\n"
          ],
          "name": "stdout"
        }
      ]
    },
    {
      "cell_type": "markdown",
      "metadata": {
        "id": "3bOLGAejxkj9"
      },
      "source": [
        "In the exponential notation, the ``e`` or ``E`` can be read \"...times ten to the...\",\n",
        "so that ``1.4e6`` is interpreted as $~1.4 \\times 10^6$."
      ]
    },
    {
      "cell_type": "markdown",
      "metadata": {
        "id": "OlQJGOY6xkj9"
      },
      "source": [
        "An integer can be explicitly converted to a float with the ``float`` constructor:"
      ]
    },
    {
      "cell_type": "code",
      "metadata": {
        "id": "5qZhml3Yxkj-",
        "outputId": "90114a17-7202-455f-d96f-60f8f176da65"
      },
      "source": [
        "float(1)"
      ],
      "execution_count": null,
      "outputs": [
        {
          "output_type": "execute_result",
          "data": {
            "text/plain": [
              "1.0"
            ]
          },
          "metadata": {
            "tags": []
          },
          "execution_count": 7
        }
      ]
    },
    {
      "cell_type": "markdown",
      "metadata": {
        "id": "ZM-P0dLlxkkA"
      },
      "source": [
        "### Aside: Floating-point precision\n",
        "One thing to be aware of with floating point arithmetic is that its precision is limited, which can cause equality tests to be unstable. For example:"
      ]
    },
    {
      "cell_type": "code",
      "metadata": {
        "id": "vb2g-AsLxkkA",
        "outputId": "fc921ba9-708f-43d8-88dc-66f1771a75d8"
      },
      "source": [
        "0.1 + 0.2 == 0.3"
      ],
      "execution_count": null,
      "outputs": [
        {
          "output_type": "execute_result",
          "data": {
            "text/plain": [
              "False"
            ]
          },
          "metadata": {
            "tags": []
          },
          "execution_count": 8
        }
      ]
    },
    {
      "cell_type": "markdown",
      "metadata": {
        "id": "w8ssD2rRxkkD"
      },
      "source": [
        "Why is this the case? It turns out that it is not a behavior unique to Python, but is due to the fixed-precision format of the binary floating-point storage used by most, if not all, scientific computing platforms.\n",
        "All programming languages using floating-point numbers store them in a fixed number of bits, and this leads some numbers to be represented only approximately.\n",
        "We can see this by printing the three values to high precision:"
      ]
    },
    {
      "cell_type": "code",
      "metadata": {
        "id": "i6q-l9X7xkkD",
        "outputId": "fe40f52f-f2bf-47fa-da13-2e966faed855"
      },
      "source": [
        "print(\"0.1 = {0:.17f}\".format(0.1))\n",
        "print(\"0.2 = {0:.17f}\".format(0.2))\n",
        "print(\"0.3 = {0:.17f}\".format(0.3))"
      ],
      "execution_count": null,
      "outputs": [
        {
          "output_type": "stream",
          "text": [
            "0.1 = 0.10000000000000001\n",
            "0.2 = 0.20000000000000001\n",
            "0.3 = 0.29999999999999999\n"
          ],
          "name": "stdout"
        }
      ]
    },
    {
      "cell_type": "markdown",
      "metadata": {
        "id": "DSJgQQ47xkkF"
      },
      "source": [
        "We're accustomed to thinking of numbers in decimal (base-10) notation, so that each fraction must be expressed as a sum of powers of 10:\n",
        "$$\n",
        "1 /8 = 1\\cdot 10^{-1} + 2\\cdot 10^{-2} + 5\\cdot 10^{-3}\n",
        "$$\n",
        "In the familiar base-10 representation, we represent this in the familiar decimal expression: $0.125$.\n",
        "\n",
        "Computers usually store values in binary notation, so that each number is expressed as a sum of powers of 2:\n",
        "$$\n",
        "1/8 = 0\\cdot 2^{-1} + 0\\cdot 2^{-2} + 1\\cdot 2^{-3}\n",
        "$$\n",
        "In a base-2 representation, we can write this $0.001_2$, where the subscript 2 indicates binary notation.\n",
        "The value $0.125 = 0.001_2$ happens to be one number which both binary and decimal notation can represent in a finite number of digits.\n",
        "\n",
        "In the familiar base-10 representation of numbers, you are probably familiar with numbers that can't be expressed in a finite number of digits.\n",
        "For example, dividing $1$ by $3$ gives, in standard decimal notation:\n",
        "$$\n",
        "1 / 3 = 0.333333333\\cdots\n",
        "$$\n",
        "The 3s go on forever: that is, to truly represent this quotient, the number of required digits is infinite!\n",
        "\n",
        "Similarly, there are numbers for which binary representations require an infinite number of digits.\n",
        "For example:\n",
        "$$\n",
        "1 / 10 = 0.00011001100110011\\cdots_2\n",
        "$$\n",
        "Just as decimal notation requires an infinite number of digits to perfectly represent $1/3$, binary notation requires an infinite number of digits to represent $1/10$.\n",
        "Python internally truncates these representations at 52 bits beyond the first nonzero bit on most systems.\n",
        "\n",
        "This rounding error for floating-point values is a necessary evil of working with floating-point numbers.\n",
        "The best way to deal with it is to always keep in mind that floating-point arithmetic is approximate, and *never* rely on exact equality tests with floating-point values."
      ]
    },
    {
      "cell_type": "markdown",
      "metadata": {
        "id": "M-VugJExxkkF"
      },
      "source": [
        "## Complex Numbers\n",
        "Complex numbers are numbers with real and imaginary (floating-point) parts.\n",
        "We've seen integers and real numbers before; we can use these to construct a complex number:"
      ]
    },
    {
      "cell_type": "code",
      "metadata": {
        "id": "rdkjU4QexkkG",
        "outputId": "1d840aa2-e0f0-4036-9559-1b960e8fd394"
      },
      "source": [
        "complex(1, 2)"
      ],
      "execution_count": null,
      "outputs": [
        {
          "output_type": "execute_result",
          "data": {
            "text/plain": [
              "(1+2j)"
            ]
          },
          "metadata": {
            "tags": []
          },
          "execution_count": 10
        }
      ]
    },
    {
      "cell_type": "markdown",
      "metadata": {
        "id": "hUHw2y1kxkkI"
      },
      "source": [
        "Alternatively, we can use the \"``j``\" suffix in expressions to indicate the imaginary part:"
      ]
    },
    {
      "cell_type": "code",
      "metadata": {
        "id": "ReG_NtlXxkkI",
        "outputId": "a20e99b9-397f-46d5-c16f-ddc15e1ae2a1"
      },
      "source": [
        "1 + 2j"
      ],
      "execution_count": null,
      "outputs": [
        {
          "output_type": "execute_result",
          "data": {
            "text/plain": [
              "(1+2j)"
            ]
          },
          "metadata": {
            "tags": []
          },
          "execution_count": 11
        }
      ]
    },
    {
      "cell_type": "markdown",
      "metadata": {
        "id": "guQ2pBS3xkkL"
      },
      "source": [
        "Complex numbers have a variety of interesting attributes and methods, which we'll briefly demonstrate here:"
      ]
    },
    {
      "cell_type": "code",
      "metadata": {
        "id": "2WegC-8zxkkL"
      },
      "source": [
        "c = 3 + 4j"
      ],
      "execution_count": null,
      "outputs": []
    },
    {
      "cell_type": "code",
      "metadata": {
        "id": "BPi3e3abxkkN",
        "outputId": "391d6845-3f88-4892-ba96-3080f7e101b3"
      },
      "source": [
        "c.real  # real part"
      ],
      "execution_count": null,
      "outputs": [
        {
          "output_type": "execute_result",
          "data": {
            "text/plain": [
              "3.0"
            ]
          },
          "metadata": {
            "tags": []
          },
          "execution_count": 13
        }
      ]
    },
    {
      "cell_type": "code",
      "metadata": {
        "id": "10SUb1iOxkkQ",
        "outputId": "1e7e1629-6e5b-458e-b367-29a35bf7ec00"
      },
      "source": [
        "c.imag  # imaginary part"
      ],
      "execution_count": null,
      "outputs": [
        {
          "output_type": "execute_result",
          "data": {
            "text/plain": [
              "4.0"
            ]
          },
          "metadata": {
            "tags": []
          },
          "execution_count": 14
        }
      ]
    },
    {
      "cell_type": "code",
      "metadata": {
        "id": "l7VEODwtxkkS",
        "outputId": "6290ec11-09bd-4aaa-a2a1-3c83ea9ae9b7"
      },
      "source": [
        "c.conjugate()  # complex conjugate"
      ],
      "execution_count": null,
      "outputs": [
        {
          "output_type": "execute_result",
          "data": {
            "text/plain": [
              "(3-4j)"
            ]
          },
          "metadata": {
            "tags": []
          },
          "execution_count": 15
        }
      ]
    },
    {
      "cell_type": "markdown",
      "metadata": {
        "id": "IqDDU8TVxkkU"
      },
      "source": [
        "Absolute value of `c` or its magnitude: $\\sqrt{(c.real) ^ 2 + (c.imag) ^2}$"
      ]
    },
    {
      "cell_type": "code",
      "metadata": {
        "id": "ktIzJjvlxkkU",
        "outputId": "c3a8b085-9dc5-40af-c6d2-68bec84e91ba"
      },
      "source": [
        "abs(c)"
      ],
      "execution_count": null,
      "outputs": [
        {
          "output_type": "execute_result",
          "data": {
            "text/plain": [
              "5.0"
            ]
          },
          "metadata": {
            "tags": []
          },
          "execution_count": 16
        }
      ]
    },
    {
      "cell_type": "markdown",
      "metadata": {
        "id": "_V8O2QwAxkkW"
      },
      "source": [
        "## String Type\n",
        "Strings in Python are created with single or double quotes:"
      ]
    },
    {
      "cell_type": "code",
      "metadata": {
        "id": "rB6a0fGbxkkX"
      },
      "source": [
        "message = \"what do you like?\"\n",
        "response = 'spam'"
      ],
      "execution_count": null,
      "outputs": []
    },
    {
      "cell_type": "markdown",
      "metadata": {
        "id": "cvfxyeKYxkkZ"
      },
      "source": [
        "Python has many extremely useful string functions and methods; here are a few of them:"
      ]
    },
    {
      "cell_type": "code",
      "metadata": {
        "id": "3VHMLuIjxkkZ",
        "outputId": "ad0a145c-7076-4714-b031-d1825b8f1c00"
      },
      "source": [
        "# length of string\n",
        "len(response)"
      ],
      "execution_count": null,
      "outputs": [
        {
          "output_type": "execute_result",
          "data": {
            "text/plain": [
              "4"
            ]
          },
          "metadata": {
            "tags": []
          },
          "execution_count": 18
        }
      ]
    },
    {
      "cell_type": "code",
      "metadata": {
        "id": "W0QpogcBxkkb",
        "outputId": "8d9dbf37-602e-43c4-b321-b7733f395a16"
      },
      "source": [
        "# Make upper-case. See also str.lower()\n",
        "response.upper()"
      ],
      "execution_count": null,
      "outputs": [
        {
          "output_type": "execute_result",
          "data": {
            "text/plain": [
              "'SPAM'"
            ]
          },
          "metadata": {
            "tags": []
          },
          "execution_count": 19
        }
      ]
    },
    {
      "cell_type": "code",
      "metadata": {
        "id": "QIVCilmhxkkd",
        "outputId": "c5362d8f-3168-4b60-bc76-66b4d778db49"
      },
      "source": [
        "# Capitalize. See also str.title()\n",
        "message.capitalize()"
      ],
      "execution_count": null,
      "outputs": [
        {
          "output_type": "execute_result",
          "data": {
            "text/plain": [
              "'What do you like?'"
            ]
          },
          "metadata": {
            "tags": []
          },
          "execution_count": 20
        }
      ]
    },
    {
      "cell_type": "code",
      "metadata": {
        "id": "cu1LjOd1xkkf",
        "outputId": "3dd213a3-a607-4c39-8a69-e14b8f170b15"
      },
      "source": [
        "# concatenation with +\n",
        "message + response"
      ],
      "execution_count": null,
      "outputs": [
        {
          "output_type": "execute_result",
          "data": {
            "text/plain": [
              "'what do you like?spam'"
            ]
          },
          "metadata": {
            "tags": []
          },
          "execution_count": 21
        }
      ]
    },
    {
      "cell_type": "code",
      "metadata": {
        "id": "OjAp7XqPxkkh",
        "outputId": "69fc5592-cc65-4de8-d120-d6e664dd32b6"
      },
      "source": [
        "# multiplication is multiple concatenation\n",
        "5 * response"
      ],
      "execution_count": null,
      "outputs": [
        {
          "output_type": "execute_result",
          "data": {
            "text/plain": [
              "'spamspamspamspamspam'"
            ]
          },
          "metadata": {
            "tags": []
          },
          "execution_count": 22
        }
      ]
    },
    {
      "cell_type": "code",
      "metadata": {
        "id": "jUcwhWjZxkkj",
        "outputId": "9af8c190-b8c9-488b-daa6-46e4258d9493"
      },
      "source": [
        "# Access individual characters (zero-based indexing)\n",
        "message[0]"
      ],
      "execution_count": null,
      "outputs": [
        {
          "output_type": "execute_result",
          "data": {
            "text/plain": [
              "'w'"
            ]
          },
          "metadata": {
            "tags": []
          },
          "execution_count": 23
        }
      ]
    },
    {
      "cell_type": "markdown",
      "metadata": {
        "id": "_Rv7KcsQxkkl"
      },
      "source": [
        "For more discussion of indexing in Python, see [\"Lists\"](06-Built-in-Data-Structures.ipynb#Lists)."
      ]
    },
    {
      "cell_type": "markdown",
      "metadata": {
        "id": "M97gk58Rxkkm"
      },
      "source": [
        "## None Type\n",
        "Python includes a special type, the ``NoneType``, which has only a single possible value: ``None``. For example:"
      ]
    },
    {
      "cell_type": "code",
      "metadata": {
        "id": "SkseqEUJxkkm",
        "outputId": "7ccd5d2a-0740-4eac-df7c-f15280f1b390"
      },
      "source": [
        "type(None)"
      ],
      "execution_count": null,
      "outputs": [
        {
          "output_type": "execute_result",
          "data": {
            "text/plain": [
              "NoneType"
            ]
          },
          "metadata": {
            "tags": []
          },
          "execution_count": 24
        }
      ]
    },
    {
      "cell_type": "markdown",
      "metadata": {
        "id": "weDoQQA7xkko"
      },
      "source": [
        "You'll see ``None`` used in many places, but perhaps most commonly it is used as the default return value of a function.\n",
        "For example, the ``print()`` function in Python 3 does not return anything, but we can still catch its value:"
      ]
    },
    {
      "cell_type": "code",
      "metadata": {
        "id": "45e1Zgi_xkko",
        "outputId": "ecfe2637-f077-46ae-c59a-393aa2b6297e"
      },
      "source": [
        "return_value = print('abc')"
      ],
      "execution_count": null,
      "outputs": [
        {
          "output_type": "stream",
          "text": [
            "abc\n"
          ],
          "name": "stdout"
        }
      ]
    },
    {
      "cell_type": "code",
      "metadata": {
        "id": "ZUXgqtE4xkks",
        "outputId": "eb20e701-0df1-4373-8707-b794624ad9f9"
      },
      "source": [
        "print(return_value)"
      ],
      "execution_count": null,
      "outputs": [
        {
          "output_type": "stream",
          "text": [
            "None\n"
          ],
          "name": "stdout"
        }
      ]
    },
    {
      "cell_type": "markdown",
      "metadata": {
        "id": "FpcS8XIBxkku"
      },
      "source": [
        "Likewise, any function in Python with no return value is, in reality, returning ``None``."
      ]
    },
    {
      "cell_type": "markdown",
      "metadata": {
        "id": "igHyN7Btxkku"
      },
      "source": [
        "## Boolean Type\n",
        "The Boolean type is a simple type with two possible values: ``True`` and ``False``, and is returned by comparison operators discussed previously:"
      ]
    },
    {
      "cell_type": "code",
      "metadata": {
        "id": "DzOAyz9axkkv",
        "outputId": "50b7138e-8d4c-4f57-be5f-d9196d27f9db"
      },
      "source": [
        "result = (4 < 5)\n",
        "result"
      ],
      "execution_count": null,
      "outputs": [
        {
          "output_type": "execute_result",
          "data": {
            "text/plain": [
              "True"
            ]
          },
          "metadata": {
            "tags": []
          },
          "execution_count": 27
        }
      ]
    },
    {
      "cell_type": "code",
      "metadata": {
        "id": "QrRjdZtixkkx",
        "outputId": "8ffab207-a1c4-4aa5-ca51-82ece0b30303"
      },
      "source": [
        "type(result)"
      ],
      "execution_count": null,
      "outputs": [
        {
          "output_type": "execute_result",
          "data": {
            "text/plain": [
              "bool"
            ]
          },
          "metadata": {
            "tags": []
          },
          "execution_count": 28
        }
      ]
    },
    {
      "cell_type": "markdown",
      "metadata": {
        "id": "8Hr5l22uxkkz"
      },
      "source": [
        "Keep in mind that the Boolean values are case-sensitive: unlike some other languages, ``True`` and ``False`` must be capitalized!"
      ]
    },
    {
      "cell_type": "code",
      "metadata": {
        "id": "bCZatebqxkkz",
        "outputId": "353f8a7d-63e9-47de-d01d-64d76db2b790"
      },
      "source": [
        "print(True, False)"
      ],
      "execution_count": null,
      "outputs": [
        {
          "output_type": "stream",
          "text": [
            "True False\n"
          ],
          "name": "stdout"
        }
      ]
    },
    {
      "cell_type": "markdown",
      "metadata": {
        "id": "DovHeN2Exkk1"
      },
      "source": [
        "Booleans can also be constructed using the ``bool()`` object constructor: values of any other type can be converted to Boolean via predictable rules.\n",
        "For example, any numeric type is False if equal to zero, and True otherwise:"
      ]
    },
    {
      "cell_type": "code",
      "metadata": {
        "id": "iGnP156txkk1",
        "outputId": "cd8d8a2d-83f9-4bc2-fd7a-b9eb8d8cdab7"
      },
      "source": [
        "bool(2014)"
      ],
      "execution_count": null,
      "outputs": [
        {
          "output_type": "execute_result",
          "data": {
            "text/plain": [
              "True"
            ]
          },
          "metadata": {
            "tags": []
          },
          "execution_count": 30
        }
      ]
    },
    {
      "cell_type": "code",
      "metadata": {
        "id": "lRS8WyWDxkk3",
        "outputId": "ba10a3c6-1d35-48f2-fe1d-57b83ce3b1a3"
      },
      "source": [
        "bool(0)"
      ],
      "execution_count": null,
      "outputs": [
        {
          "output_type": "execute_result",
          "data": {
            "text/plain": [
              "False"
            ]
          },
          "metadata": {
            "tags": []
          },
          "execution_count": 31
        }
      ]
    },
    {
      "cell_type": "code",
      "metadata": {
        "id": "Lk34o6pWxkk4",
        "outputId": "dd054efb-28b6-43b5-9aa3-cd6653506b1c"
      },
      "source": [
        "bool(3.1415)"
      ],
      "execution_count": null,
      "outputs": [
        {
          "output_type": "execute_result",
          "data": {
            "text/plain": [
              "True"
            ]
          },
          "metadata": {
            "tags": []
          },
          "execution_count": 32
        }
      ]
    },
    {
      "cell_type": "markdown",
      "metadata": {
        "id": "yfc6LuN2xkk6"
      },
      "source": [
        "The Boolean conversion of ``None`` is always False:"
      ]
    },
    {
      "cell_type": "code",
      "metadata": {
        "id": "j4aryNKnxkk7",
        "outputId": "f90e5cc0-ca12-40c9-fea8-62a0ff1b5590"
      },
      "source": [
        "bool(None)"
      ],
      "execution_count": null,
      "outputs": [
        {
          "output_type": "execute_result",
          "data": {
            "text/plain": [
              "False"
            ]
          },
          "metadata": {
            "tags": []
          },
          "execution_count": 33
        }
      ]
    },
    {
      "cell_type": "markdown",
      "metadata": {
        "id": "FMOQYEymxkk8"
      },
      "source": [
        "For strings, ``bool(s)`` is False for empty strings and True otherwise:"
      ]
    },
    {
      "cell_type": "code",
      "metadata": {
        "id": "IP5AFYldxkk9",
        "outputId": "c3e7caa9-b006-4394-95b5-60d1f19eeca4"
      },
      "source": [
        "bool(\"\")"
      ],
      "execution_count": null,
      "outputs": [
        {
          "output_type": "execute_result",
          "data": {
            "text/plain": [
              "False"
            ]
          },
          "metadata": {
            "tags": []
          },
          "execution_count": 34
        }
      ]
    },
    {
      "cell_type": "code",
      "metadata": {
        "id": "ysFKn0-Oxkk_",
        "outputId": "f6becb16-f277-4591-ea22-517dfea2a0c1"
      },
      "source": [
        "bool(\"abc\")"
      ],
      "execution_count": null,
      "outputs": [
        {
          "output_type": "execute_result",
          "data": {
            "text/plain": [
              "True"
            ]
          },
          "metadata": {
            "tags": []
          },
          "execution_count": 35
        }
      ]
    },
    {
      "cell_type": "markdown",
      "metadata": {
        "id": "CytTg0j0xklA"
      },
      "source": [
        "For sequences, which we'll see in the next section, the Boolean representation is False for empty sequences and True for any other sequences"
      ]
    },
    {
      "cell_type": "code",
      "metadata": {
        "id": "Hp9ytdUWxklB",
        "outputId": "a83d2002-f7dd-48f4-e06d-80f4539df4c9"
      },
      "source": [
        "bool([1, 2, 3])"
      ],
      "execution_count": null,
      "outputs": [
        {
          "output_type": "execute_result",
          "data": {
            "text/plain": [
              "True"
            ]
          },
          "metadata": {
            "tags": []
          },
          "execution_count": 36
        }
      ]
    },
    {
      "cell_type": "code",
      "metadata": {
        "id": "zYFcZ8tkxklD",
        "outputId": "45b6116a-309b-4613-ba42-e30c4aa630ca"
      },
      "source": [
        "bool([])"
      ],
      "execution_count": null,
      "outputs": [
        {
          "output_type": "execute_result",
          "data": {
            "text/plain": [
              "False"
            ]
          },
          "metadata": {
            "tags": []
          },
          "execution_count": 37
        }
      ]
    }
  ]
}